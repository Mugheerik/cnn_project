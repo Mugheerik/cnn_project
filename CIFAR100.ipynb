{
  "cells": [
    {
      "cell_type": "markdown",
      "metadata": {
        "id": "view-in-github",
        "colab_type": "text"
      },
      "source": [
        "<a href=\"https://colab.research.google.com/github/Mugheerik/cnn_project/blob/main/CIFAR100.ipynb\" target=\"_parent\"><img src=\"https://colab.research.google.com/assets/colab-badge.svg\" alt=\"Open In Colab\"/></a>"
      ]
    },
    {
      "cell_type": "markdown",
      "source": [
        "# **IMPORT LIBRARIES**"
      ],
      "metadata": {
        "id": "UoVHt2ckislN"
      }
    },
    {
      "cell_type": "code",
      "execution_count": 1,
      "metadata": {
        "id": "OYu7F5tZbq8I"
      },
      "outputs": [],
      "source": [
        "import tensorflow as tf\n",
        "from tensorflow.keras import layers, models\n",
        "from tensorflow.keras.datasets import cifar100\n",
        "from tensorflow.keras.utils import to_categorical\n",
        "from tensorflow.keras.preprocessing.image import ImageDataGenerator\n",
        "from tensorflow.keras.callbacks import ReduceLROnPlateau, EarlyStopping\n",
        "from sklearn.model_selection import train_test_split\n",
        "import matplotlib.pyplot as plt\n",
        "\n"
      ]
    },
    {
      "cell_type": "markdown",
      "source": [
        "# **LOAD DATASET (CIFAR100)**"
      ],
      "metadata": {
        "id": "VfzdI9k9i5er"
      }
    },
    {
      "cell_type": "code",
      "execution_count": 2,
      "metadata": {
        "id": "MBwU2R9Ubz0p",
        "colab": {
          "base_uri": "https://localhost:8080/"
        },
        "outputId": "eae6a8a5-c0c4-4119-a1ea-c71570f4607a"
      },
      "outputs": [
        {
          "output_type": "stream",
          "name": "stdout",
          "text": [
            "Downloading data from https://www.cs.toronto.edu/~kriz/cifar-100-python.tar.gz\n",
            "169001437/169001437 [==============================] - 2s 0us/step\n"
          ]
        }
      ],
      "source": [
        "\n",
        "# Load CIFAR-100 dataset\n",
        "(train_images, train_labels), (test_images, test_labels) = cifar100.load_data()\n",
        "\n",
        "# Normalize pixel values to between 0 and 1\n",
        "train_images, test_images = train_images / 255.0, test_images / 255.0\n",
        "\n",
        "# One-hot encode labels\n",
        "train_labels = to_categorical(train_labels, 100)\n",
        "test_labels = to_categorical(test_labels, 100)\n",
        "\n"
      ]
    },
    {
      "cell_type": "markdown",
      "source": [
        "# **DATA AUGMENTATION**"
      ],
      "metadata": {
        "id": "11DVpqvTjACM"
      }
    },
    {
      "cell_type": "code",
      "source": [
        "# Data Augmentation\n",
        "datagen = ImageDataGenerator(\n",
        "    rotation_range=20,\n",
        "    width_shift_range=0.2,\n",
        "    height_shift_range=0.2,\n",
        "    zoom_range=0.2,\n",
        "    horizontal_flip=True,\n",
        "    fill_mode='nearest'\n",
        ")\n",
        "datagen.fit(train_images)\n",
        "\n"
      ],
      "metadata": {
        "id": "XCTJdh3giVJB"
      },
      "execution_count": 3,
      "outputs": []
    },
    {
      "cell_type": "markdown",
      "source": [
        "# **CNN MODEL**"
      ],
      "metadata": {
        "id": "v-n6L0-0jE1e"
      }
    },
    {
      "cell_type": "code",
      "source": [
        "# Build CNN Model with Dropout and Batch Normalization\n",
        "model = models.Sequential()\n",
        "\n",
        "model.add(layers.Conv2D(64, (3, 3), activation='relu', input_shape=(32, 32, 3)))\n",
        "model.add(layers.BatchNormalization())\n",
        "model.add(layers.Conv2D(64, (3, 3), activation='relu'))\n",
        "model.add(layers.BatchNormalization())\n",
        "model.add(layers.MaxPooling2D((2, 2)))\n",
        "model.add(layers.Dropout(0.25))\n",
        "\n",
        "model.add(layers.Conv2D(128, (3, 3), activation='relu'))\n",
        "model.add(layers.BatchNormalization())\n",
        "model.add(layers.Conv2D(128, (3, 3), activation='relu'))\n",
        "model.add(layers.BatchNormalization())\n",
        "model.add(layers.MaxPooling2D((2, 2)))\n",
        "model.add(layers.Dropout(0.25))\n",
        "\n",
        "model.add(layers.Flatten())\n",
        "model.add(layers.Dense(256, activation='relu'))\n",
        "model.add(layers.BatchNormalization())\n",
        "model.add(layers.Dropout(0.5))\n",
        "model.add(layers.Dense(100, activation='softmax'))\n",
        "\n",
        "# Compile the model with a reduced learning rate\n",
        "model.compile(optimizer=tf.keras.optimizers.Adam(learning_rate=0.005),\n",
        "              loss='categorical_crossentropy',\n",
        "              metrics=['accuracy'])\n",
        "\n",
        "# Learning Rate Reduction and Early Stopping\n",
        "reduce_lr = ReduceLROnPlateau(monitor='val_loss', factor=0.2, patience=5, min_lr=0.0001)\n",
        "early_stop = EarlyStopping(monitor='val_loss', patience=10, restore_best_weights=True)\n",
        "\n"
      ],
      "metadata": {
        "id": "5M5IbVkYiYwA"
      },
      "execution_count": 4,
      "outputs": []
    },
    {
      "cell_type": "markdown",
      "source": [
        "# **TRAIN MODEL**"
      ],
      "metadata": {
        "id": "zqQ_bIhzjJNH"
      }
    },
    {
      "cell_type": "code",
      "source": [
        "# Train the model\n",
        "history = model.fit(datagen.flow(train_images, train_labels, batch_size=32),\n",
        "                    steps_per_epoch=len(train_images) / 32, epochs=20,\n",
        "                    validation_data=(test_images, test_labels),\n",
        "                    callbacks=[reduce_lr, early_stop])\n",
        "\n"
      ],
      "metadata": {
        "colab": {
          "base_uri": "https://localhost:8080/"
        },
        "id": "NcTYDL05igOF",
        "outputId": "177f7252-1411-4301-ce52-2364a7b14261"
      },
      "execution_count": 5,
      "outputs": [
        {
          "output_type": "stream",
          "name": "stdout",
          "text": [
            "Epoch 1/20\n",
            "1562/1562 [==============================] - 647s 412ms/step - loss: 4.0995 - accuracy: 0.0859 - val_loss: 3.6658 - val_accuracy: 0.1489 - lr: 0.0050\n",
            "Epoch 2/20\n",
            "1562/1562 [==============================] - 595s 381ms/step - loss: 3.5898 - accuracy: 0.1475 - val_loss: 3.1425 - val_accuracy: 0.2256 - lr: 0.0050\n",
            "Epoch 3/20\n",
            "1562/1562 [==============================] - 579s 371ms/step - loss: 3.3625 - accuracy: 0.1850 - val_loss: 2.9872 - val_accuracy: 0.2623 - lr: 0.0050\n",
            "Epoch 4/20\n",
            "1562/1562 [==============================] - 565s 362ms/step - loss: 3.1925 - accuracy: 0.2172 - val_loss: 2.7232 - val_accuracy: 0.3044 - lr: 0.0050\n",
            "Epoch 5/20\n",
            "1562/1562 [==============================] - 597s 382ms/step - loss: 3.0677 - accuracy: 0.2399 - val_loss: 2.6181 - val_accuracy: 0.3267 - lr: 0.0050\n",
            "Epoch 6/20\n",
            "1562/1562 [==============================] - 596s 381ms/step - loss: 2.9705 - accuracy: 0.2582 - val_loss: 2.5073 - val_accuracy: 0.3555 - lr: 0.0050\n",
            "Epoch 7/20\n",
            "1562/1562 [==============================] - 588s 376ms/step - loss: 2.8830 - accuracy: 0.2758 - val_loss: 2.3874 - val_accuracy: 0.3773 - lr: 0.0050\n",
            "Epoch 8/20\n",
            "1562/1562 [==============================] - 582s 373ms/step - loss: 2.8194 - accuracy: 0.2879 - val_loss: 2.3760 - val_accuracy: 0.3842 - lr: 0.0050\n",
            "Epoch 9/20\n",
            "1562/1562 [==============================] - 615s 394ms/step - loss: 2.7568 - accuracy: 0.2982 - val_loss: 2.2779 - val_accuracy: 0.3998 - lr: 0.0050\n",
            "Epoch 10/20\n",
            "1562/1562 [==============================] - 621s 397ms/step - loss: 2.7155 - accuracy: 0.3105 - val_loss: 2.2170 - val_accuracy: 0.4162 - lr: 0.0050\n",
            "Epoch 11/20\n",
            "1562/1562 [==============================] - 635s 407ms/step - loss: 2.6697 - accuracy: 0.3205 - val_loss: 2.2198 - val_accuracy: 0.4143 - lr: 0.0050\n",
            "Epoch 12/20\n",
            "1562/1562 [==============================] - 612s 391ms/step - loss: 2.6296 - accuracy: 0.3279 - val_loss: 2.1062 - val_accuracy: 0.4395 - lr: 0.0050\n",
            "Epoch 13/20\n",
            "1562/1562 [==============================] - 601s 384ms/step - loss: 2.5962 - accuracy: 0.3352 - val_loss: 2.3855 - val_accuracy: 0.3828 - lr: 0.0050\n",
            "Epoch 14/20\n",
            "1562/1562 [==============================] - 575s 368ms/step - loss: 2.5737 - accuracy: 0.3371 - val_loss: 2.1356 - val_accuracy: 0.4290 - lr: 0.0050\n",
            "Epoch 15/20\n",
            "1562/1562 [==============================] - 584s 373ms/step - loss: 2.5362 - accuracy: 0.3468 - val_loss: 2.1100 - val_accuracy: 0.4371 - lr: 0.0050\n",
            "Epoch 16/20\n",
            "1562/1562 [==============================] - 581s 372ms/step - loss: 2.5211 - accuracy: 0.3516 - val_loss: 1.9777 - val_accuracy: 0.4709 - lr: 0.0050\n",
            "Epoch 17/20\n",
            "1562/1562 [==============================] - 596s 381ms/step - loss: 2.4889 - accuracy: 0.3572 - val_loss: 2.0942 - val_accuracy: 0.4436 - lr: 0.0050\n",
            "Epoch 18/20\n",
            "1562/1562 [==============================] - 591s 378ms/step - loss: 2.4831 - accuracy: 0.3570 - val_loss: 2.0062 - val_accuracy: 0.4650 - lr: 0.0050\n",
            "Epoch 19/20\n",
            "1562/1562 [==============================] - 588s 376ms/step - loss: 2.4582 - accuracy: 0.3612 - val_loss: 1.9730 - val_accuracy: 0.4739 - lr: 0.0050\n",
            "Epoch 20/20\n",
            "1562/1562 [==============================] - 586s 375ms/step - loss: 2.4335 - accuracy: 0.3686 - val_loss: 2.1032 - val_accuracy: 0.4494 - lr: 0.0050\n"
          ]
        }
      ]
    },
    {
      "cell_type": "markdown",
      "source": [
        "# **EVALUATE MODEL**"
      ],
      "metadata": {
        "id": "gR2A6eaqjNRQ"
      }
    },
    {
      "cell_type": "code",
      "source": [
        "# Evaluate the model\n",
        "test_loss, test_acc = model.evaluate(test_images, test_labels, verbose=2)\n",
        "print(f'Test accuracy: {test_acc}')\n",
        "\n"
      ],
      "metadata": {
        "colab": {
          "base_uri": "https://localhost:8080/"
        },
        "id": "UlTCYCnxij00",
        "outputId": "5bee96e6-a734-4548-fe6f-57fd94ab092e"
      },
      "execution_count": 6,
      "outputs": [
        {
          "output_type": "stream",
          "name": "stdout",
          "text": [
            "313/313 - 36s - loss: 2.1032 - accuracy: 0.4494 - 36s/epoch - 116ms/step\n",
            "Test accuracy: 0.44940000772476196\n"
          ]
        }
      ]
    },
    {
      "cell_type": "markdown",
      "source": [
        "# **SAVE MODEL**"
      ],
      "metadata": {
        "id": "rpocIMvAjRuJ"
      }
    },
    {
      "cell_type": "code",
      "source": [
        "# Save the model\n",
        "model.save('cifar100_model.h5')\n",
        "\n"
      ],
      "metadata": {
        "colab": {
          "base_uri": "https://localhost:8080/"
        },
        "id": "CvE-eOlTimcP",
        "outputId": "5785b9dd-9f10-47cb-d6ca-6e19851d64d8"
      },
      "execution_count": 7,
      "outputs": [
        {
          "output_type": "stream",
          "name": "stderr",
          "text": [
            "/usr/local/lib/python3.10/dist-packages/keras/src/engine/training.py:3103: UserWarning: You are saving your model as an HDF5 file via `model.save()`. This file format is considered legacy. We recommend using instead the native Keras format, e.g. `model.save('my_model.keras')`.\n",
            "  saving_api.save_model(\n"
          ]
        }
      ]
    },
    {
      "cell_type": "markdown",
      "source": [
        "# **PLOT GRAPH**"
      ],
      "metadata": {
        "id": "WBQg2oWyjVxR"
      }
    },
    {
      "cell_type": "code",
      "source": [
        "# Plot training history\n",
        "plt.plot(history.history['accuracy'], label='accuracy')\n",
        "plt.xlabel('Epoch')\n",
        "plt.ylabel('Accuracy')\n",
        "plt.legend()\n",
        "plt.show()"
      ],
      "metadata": {
        "colab": {
          "base_uri": "https://localhost:8080/",
          "height": 449
        },
        "id": "0zcDf7VCiouV",
        "outputId": "070a59b2-54ef-4421-aeaf-0620a3930f69"
      },
      "execution_count": 9,
      "outputs": [
        {
          "output_type": "display_data",
          "data": {
            "text/plain": [
              "<Figure size 640x480 with 1 Axes>"
            ],
            "image/png": "[encoded data removed]"
          },
          "metadata": {}
        }
      ]
    },
    {
      "cell_type": "markdown",
      "source": [
        "# **DEPLOY**"
      ],
      "metadata": {
        "id": "H3Ao-gi6IQA6"
      }
    },
    {
      "cell_type": "code",
      "source": [
        "import tensorflow as tf\n",
        "from tensorflow.keras.models import load_model\n",
        "from PIL import Image\n",
        "from io import BytesIO\n",
        "import requests\n",
        "import numpy as np\n",
        "\n",
        "# Load the model\n",
        "model = load_model('cifar100_model.h5')\n",
        "\n",
        "# Map class index to labels\n",
        "class_labels = {\n",
        "    0: 'apple',\n",
        "    1: 'aquarium_fish',\n",
        "    2: 'baby',\n",
        "    3: 'bear',\n",
        "    4: 'beaver',\n",
        "    5: 'bed',\n",
        "    6: 'bee',\n",
        "    7: 'beetle',\n",
        "    8: 'bicycle',\n",
        "    9: 'bottle',\n",
        "    10: 'bowl',\n",
        "    11: 'boy',\n",
        "    12: 'bridge',\n",
        "    13: 'bus',\n",
        "    14: 'butterfly',\n",
        "    15: 'camel',\n",
        "    16: 'can',\n",
        "    17: 'castle',\n",
        "    18: 'caterpillar',\n",
        "    19: 'cattle',\n",
        "    20: 'chair',\n",
        "    21: 'chimpanzee',\n",
        "    22: 'clock',\n",
        "    23: 'cloud',\n",
        "    24: 'cockroach',\n",
        "    25: 'couch',\n",
        "    26: 'crab',\n",
        "    27: 'crocodile',\n",
        "    28: 'cup',\n",
        "    29: 'dinosaur',\n",
        "    30: 'dolphin',\n",
        "    31: 'elephant',\n",
        "    32: 'flatfish',\n",
        "    33: 'forest',\n",
        "    34: 'fox',\n",
        "    35: 'girl',\n",
        "    36: 'hamster',\n",
        "    37: 'house',\n",
        "    38: 'kangaroo',\n",
        "    39: 'keyboard',\n",
        "    40: 'lamp',\n",
        "    41: 'lawn_mower',\n",
        "    42: 'leopard',\n",
        "    43: 'lion',\n",
        "    44: 'lizard',\n",
        "    45: 'lobster',\n",
        "    46: 'man',\n",
        "    47: 'maple_tree',\n",
        "    48: 'motorcycle',\n",
        "    49: 'mountain',\n",
        "    50: 'mouse',\n",
        "    51: 'mushroom',\n",
        "    52: 'oak_tree',\n",
        "    53: 'orange',\n",
        "    54: 'orchid',\n",
        "    55: 'otter',\n",
        "    56: 'palm_tree',\n",
        "    57: 'pear',\n",
        "    58: 'pickup_truck',\n",
        "    59: 'pine_tree',\n",
        "    60: 'plain',\n",
        "    61: 'plate',\n",
        "    62: 'poppy',\n",
        "    63: 'porcupine',\n",
        "    64: 'possum',\n",
        "    65: 'rabbit',\n",
        "    66: 'raccoon',\n",
        "    67: 'ray',\n",
        "    68: 'road',\n",
        "    69: 'rocket',\n",
        "    70: 'rose',\n",
        "    71: 'sea',\n",
        "    72: 'seal',\n",
        "    73: 'shark',\n",
        "    74: 'shrew',\n",
        "    75: 'skunk',\n",
        "    76: 'skyscraper',\n",
        "    77: 'snail',\n",
        "    78: 'snake',\n",
        "    79: 'spider',\n",
        "    80: 'squirrel',\n",
        "    81: 'streetcar',\n",
        "    82: 'sunflower',\n",
        "    83: 'sweet_pepper',\n",
        "    84: 'table',\n",
        "    85: 'tank',\n",
        "    86: 'telephone',\n",
        "    87: 'television',\n",
        "    88: 'tiger',\n",
        "    89: 'tractor',\n",
        "    90: 'train',\n",
        "    91: 'trout',\n",
        "    92: 'tulip',\n",
        "    93: 'turtle',\n",
        "    94: 'wardrobe',\n",
        "    95: 'whale',\n",
        "    96: 'willow_tree',\n",
        "    97: 'wolf',\n",
        "    98: 'woman',\n",
        "    99: 'worm'\n",
        "}\n",
        "\n",
        "def preprocess_image_from_url(image_url):\n",
        "    response = requests.get(image_url)\n",
        "    img = Image.open(BytesIO(response.content))\n",
        "    img = img.resize((32, 32))  # Resize to match the model's expected input size\n",
        "    img_array = np.asarray(img) / 255.0  # Normalize pixel values\n",
        "    img_array = np.expand_dims(img_array, axis=0)  # Add batch dimension\n",
        "    return img_array"
      ],
      "metadata": {
        "id": "GyUpA9miHGxp"
      },
      "execution_count": 11,
      "outputs": []
    },
    {
      "cell_type": "code",
      "source": [
        "image_url = 'https://images.unsplash.com/photo-1592009309602-1dde752490ae?ixlib=rb-1.2.1&ixid=eyJhcHBfaWQiOjEyMDd9&w=1000&q=80'\n",
        "# Preprocess the image\n",
        "input_image = preprocess_image_from_url(image_url)\n",
        "\n",
        "# Make predictions\n",
        "predictions = model.predict(input_image)\n",
        "predicted_class = np.argmax(predictions[0])\n",
        "predicted_label = class_labels[predicted_class]\n",
        "\n",
        "print(f'The predicted class is: {predicted_label}')"
      ],
      "metadata": {
        "colab": {
          "base_uri": "https://localhost:8080/"
        },
        "id": "8UKqdcUgHW4Z",
        "outputId": "7fd7e513-1167-4a00-ea13-1b71a7483b3c"
      },
      "execution_count": 15,
      "outputs": [
        {
          "output_type": "stream",
          "name": "stdout",
          "text": [
            "1/1 [==============================] - 0s 31ms/step\n",
            "The predicted class is: man\n"
          ]
        }
      ]
    }
  ],
  "metadata": {
    "colab": {
      "provenance": [],
      "authorship_tag": "ABX9TyPS3JiUmjeaveeiRUYBUh4m",
      "include_colab_link": true
    },
    "kernelspec": {
      "display_name": "Python 3",
      "name": "python3"
    },
    "language_info": {
      "name": "python"
    }
  },
  "nbformat": 4,
  "nbformat_minor": 0
}